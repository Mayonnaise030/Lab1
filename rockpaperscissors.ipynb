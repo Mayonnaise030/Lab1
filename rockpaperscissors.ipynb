{
 "cells": [
  {
   "cell_type": "code",
   "execution_count": 1,
   "id": "b68cd632",
   "metadata": {},
   "outputs": [
    {
     "name": "stdout",
     "output_type": "stream",
     "text": [
      "Welcome to ROCK, PAPER, SCISSORS game!\n"
     ]
    }
   ],
   "source": [
    "import random\n",
    "print(\"Welcome to ROCK, PAPER, SCISSORS game!\")"
   ]
  },
  {
   "cell_type": "code",
   "execution_count": null,
   "id": "f1a9520c",
   "metadata": {},
   "outputs": [],
   "source": [
    "gamer_type = [\"r\", \"p\", \"s\"]    #定義剪刀石頭布\n",
    "computer = gamer_type[random.randint(1, 3)-1]    #隨機生成電腦出甚麼 ， pdf建議使用randint(1, 3) → 使用後減1方便array處理\n",
    "tie = 0;  #紀錄平手次數\n",
    "loss = 0; #紀錄輸的次數\n",
    "while  True:  #重複執行\n",
    "    player = input(\"Enter your move:(r)ock, (p)aper, (s)cissors?\")\n",
    "# out put what you throw(出了甚麼)\n",
    "    if player == \"r\":\n",
    "        print(\"ROCK versus...\")\n",
    "    elif player == \"p\":\n",
    "        print(\"PAPER versus...\")\n",
    "    elif player == \"s\":\n",
    "        print(\"SCISSORS versus...\")\n",
    "# out put what computer throw(出了甚麼)       \n",
    "    if computer == \"r\":\n",
    "        print(\"ROCK\")\n",
    "    elif computer == \"p\":\n",
    "        print(\"PAPER\")\n",
    "    elif computer == \"s\":\n",
    "        print(\"SCISSORS\")\n",
    "#平手次數+1     \n",
    "    if player == computer:\n",
    "        print(\"It is a tie!\")\n",
    "        tie = tie + 1;\n",
    "#不是平手 → 比較輸贏關係        \n",
    "    elif player == \"r\":\n",
    "        if computer == \"p\":\n",
    "            print(\"You lose!\")\n",
    "            loss = loss + 1;\n",
    "        else:\n",
    "            print(\"You win!\")\n",
    "            print(\"You have\",tie,\"ties and\",loss,\"losses before your first win.\")\n",
    "            break;\n",
    "    elif player == \"p\":\n",
    "        if computer == \"s\":\n",
    "            print(\"You lose!\")\n",
    "            loss = loss + 1;\n",
    "        else:\n",
    "            print(\"You win!\")\n",
    "            print(\"You have\",tie,\"ties and\",loss,\"losses before your first win.\")\n",
    "            break;\n",
    "    elif player == \"s\":\n",
    "        if computer == \"r\":\n",
    "            print(\"You lose...\")\n",
    "            loss = loss + 1;\n",
    "        else:\n",
    "            print(\"You win!\")\n",
    "            print(\"You have\",tie,\"ties and\",loss,\"losses before your first win.\")\n",
    "            break;\n",
    "#輸入毫無關係的input會跳提醒          \n",
    "    else:\n",
    "        print(\"Not valid input.Please give valid input!\")\n",
    "#隨機生成電腦出甚麼          \n",
    "    computer = gamer_type[random.randint(1, 3)-1]"
   ]
  }
 ],
 "metadata": {
  "kernelspec": {
   "display_name": "Python 3",
   "language": "python",
   "name": "python3"
  },
  "language_info": {
   "codemirror_mode": {
    "name": "ipython",
    "version": 3
   },
   "file_extension": ".py",
   "mimetype": "text/x-python",
   "name": "python",
   "nbconvert_exporter": "python",
   "pygments_lexer": "ipython3",
   "version": "3.7.10"
  }
 },
 "nbformat": 4,
 "nbformat_minor": 5
}
