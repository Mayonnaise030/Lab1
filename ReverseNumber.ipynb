{
 "cells": [
  {
   "cell_type": "code",
   "execution_count": 1,
   "id": "b76c1be9",
   "metadata": {},
   "outputs": [],
   "source": [
    "#建議使用While % 和 //\n",
    "global zero #紀錄尾數為0\n",
    "def reverse(number):\n",
    "    global zero                            #在local引用global 變數zero\n",
    "    binary_limit = 2 ** 31                 #定義正的邊界值(使用int→int大小為8個bytes→整數 int 的記憶體空間是 4 bytes，可以儲存的整數範圍為 -2147483648 至 2147483647，超出範圍 →（Overflow），會造成不可預期的結果。)\n",
    "    neg_binary_limit = -1 * binary_limit   #定義負的邊界值\n",
    "    zero = 0\n",
    "    #紀錄尾數是否為0 \n",
    "    if number%10 == 0:\n",
    "        zero = zero +1;\n",
    "    rev = 0 \n",
    "    if number > 0:\n",
    "        while number != 0:                                 #執行直到將input值處理完畢\n",
    "            digit = number % 10                            #得到餘數\n",
    "            number //= 10                                  #去掉 float\n",
    "            rev = rev * 10 + digit                         #會將上一次的值*10之後加入此次得到的餘數\n",
    "    else:\n",
    "        number = abs(x)                                    #先絕對值取正\n",
    "        while number != 0:\n",
    "            digit = number % 10 \n",
    "            number //= 10 \n",
    "            rev = rev * 10 + digit\n",
    "        rev *= -10                                         #將負號加回\n",
    "    if rev not in range(neg_binary_limit, binary_limit):  #防止超過邊界\n",
    "        return 0\n",
    "    return rev"
   ]
  },
  {
   "cell_type": "code",
   "execution_count": 2,
   "id": "20a9ee6e",
   "metadata": {},
   "outputs": [
    {
     "name": "stdout",
     "output_type": "stream",
     "text": [
      "Enter an integer:1234567890\n",
      "0987654321\n"
     ]
    }
   ],
   "source": [
    "num = int(input('Enter an integer:'))\n",
    "ans = reverse(num)                                        #引用reverse()\n",
    "size = len(str(ans))                                      #得到有幾位數\n",
    "if zero == 1:\n",
    "    print(str(ans).zfill(size+1))                         #用zfill補 0\n",
    "else:\n",
    "    print(reverse(num))"
   ]
  }
 ],
 "metadata": {
  "kernelspec": {
   "display_name": "Python 3",
   "language": "python",
   "name": "python3"
  },
  "language_info": {
   "codemirror_mode": {
    "name": "ipython",
    "version": 3
   },
   "file_extension": ".py",
   "mimetype": "text/x-python",
   "name": "python",
   "nbconvert_exporter": "python",
   "pygments_lexer": "ipython3",
   "version": "3.7.10"
  }
 },
 "nbformat": 4,
 "nbformat_minor": 5
}
