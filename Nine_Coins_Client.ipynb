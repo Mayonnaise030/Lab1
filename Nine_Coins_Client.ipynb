{
 "cells": [
  {
   "cell_type": "code",
   "execution_count": 1,
   "id": "590b14e4",
   "metadata": {},
   "outputs": [],
   "source": [
    "from nine_coins import Nine_Coins"
   ]
  },
  {
   "cell_type": "code",
   "execution_count": 2,
   "id": "84dd924e",
   "metadata": {},
   "outputs": [],
   "source": [
    "c = Nine_Coins(7)"
   ]
  },
  {
   "cell_type": "code",
   "execution_count": 3,
   "id": "edd6745e",
   "metadata": {},
   "outputs": [
    {
     "data": {
      "text/plain": [
       "Nine_Coins :\"HHHHHHTTT\""
      ]
     },
     "execution_count": 3,
     "metadata": {},
     "output_type": "execute_result"
    }
   ],
   "source": [
    "c"
   ]
  },
  {
   "cell_type": "code",
   "execution_count": 4,
   "id": "32f6e699",
   "metadata": {},
   "outputs": [
    {
     "name": "stdout",
     "output_type": "stream",
     "text": [
      "binary: 000000111 and decimal : 7\n"
     ]
    }
   ],
   "source": [
    "print(c)"
   ]
  },
  {
   "cell_type": "code",
   "execution_count": 5,
   "id": "715abe3f",
   "metadata": {},
   "outputs": [],
   "source": [
    "c.toss()"
   ]
  },
  {
   "cell_type": "code",
   "execution_count": 6,
   "id": "7828e929",
   "metadata": {},
   "outputs": [
    {
     "data": {
      "text/plain": [
       "Nine_Coins :\"TTTTHTTHT\""
      ]
     },
     "execution_count": 6,
     "metadata": {},
     "output_type": "execute_result"
    }
   ],
   "source": [
    "c"
   ]
  },
  {
   "cell_type": "code",
   "execution_count": 7,
   "id": "544eda28",
   "metadata": {},
   "outputs": [
    {
     "name": "stdout",
     "output_type": "stream",
     "text": [
      "binary: 111101101 and decimal : 493\n"
     ]
    }
   ],
   "source": [
    "print(c)"
   ]
  },
  {
   "cell_type": "code",
   "execution_count": 8,
   "id": "61206a9d",
   "metadata": {},
   "outputs": [],
   "source": [
    "c.toss()"
   ]
  },
  {
   "cell_type": "code",
   "execution_count": 9,
   "id": "fa9048dd",
   "metadata": {},
   "outputs": [
    {
     "data": {
      "text/plain": [
       "Nine_Coins :\"HTTTTHHTH\""
      ]
     },
     "execution_count": 9,
     "metadata": {},
     "output_type": "execute_result"
    }
   ],
   "source": [
    "c"
   ]
  },
  {
   "cell_type": "code",
   "execution_count": 10,
   "id": "d9bed8f4",
   "metadata": {},
   "outputs": [
    {
     "name": "stdout",
     "output_type": "stream",
     "text": [
      "binary: 011110010 and decimal : 242\n"
     ]
    }
   ],
   "source": [
    "print(c)"
   ]
  },
  {
   "cell_type": "markdown",
   "id": "9e28f051",
   "metadata": {},
   "source": [
    " 1.下方為定義的Class\n",
    " <font size=10 color=#A52A2A >"
   ]
  },
  {
   "cell_type": "code",
   "execution_count": 11,
   "id": "f7a92917",
   "metadata": {},
   "outputs": [],
   "source": [
    "# import random\n",
    "# class Nine_Coins :\n",
    "#     #The _ _init_ _ method initializes the upperside data attribute with 'Tails'.\n",
    "#     def __init__(self, num):\n",
    "#         self.binary = (\"{0:b}\".format(num)).zfill(9)\n",
    "#         self.decimal = num\n",
    "#         Nine_Coins = \"\"\n",
    "#         for i in range(9):\n",
    "#             if self.binary[i] == \"1\":\n",
    "#                 Nine_Coins += \"T\"\n",
    "#             elif self.binary[i] == \"0\":\n",
    "#                 Nine_Coins += \"H\"\n",
    "#         self.Nine_Coins = Nine_Coins\n",
    "#     def toss(self):\n",
    "#         gamer_type = [\"H\",\"T\"]\n",
    "#         HT_temp = \"\"\n",
    "#         Binary_temp = \"\"\n",
    "#         for i in range(9):\n",
    "#             HT_temp = HT_temp + gamer_type[random.randint(0, 1)]\n",
    "#             if HT_temp[i] == \"H\":\n",
    "#                 Binary_temp += \"0\"\n",
    "#             elif HT_temp[i] == \"T\":\n",
    "#                 Binary_temp += \"1\"\n",
    "#         self.binary = Binary_temp\n",
    "#         self.decimal = int(Binary_temp, 2)\n",
    "#         self.Nine_Coins = HT_temp\n",
    "#     def __str__(self):   # 定義物件的字串描述\n",
    "#         return f'binary: {self.binary} and decimal : {self.decimal}'      \n",
    "#     def __repr__(self):\n",
    "#         return (f'Nine_Coins :\"'+  self.Nine_Coins +'\"')"
   ]
  }
 ],
 "metadata": {
  "kernelspec": {
   "display_name": "Python 3",
   "language": "python",
   "name": "python3"
  },
  "language_info": {
   "codemirror_mode": {
    "name": "ipython",
    "version": 3
   },
   "file_extension": ".py",
   "mimetype": "text/x-python",
   "name": "python",
   "nbconvert_exporter": "python",
   "pygments_lexer": "ipython3",
   "version": "3.7.10"
  }
 },
 "nbformat": 4,
 "nbformat_minor": 5
}
