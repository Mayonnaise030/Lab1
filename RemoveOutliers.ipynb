{
 "cells": [
  {
   "cell_type": "code",
   "execution_count": 1,
   "id": "23f59dcd",
   "metadata": {},
   "outputs": [],
   "source": [
    "def remove_outliers ():\n",
    "    num = int(input('Enter the number of smallest and largest values to remove:'))\n",
    "    player = True\n",
    "    nums = [];\n",
    "    while True:\n",
    "        inp = str(input(\"Enter a value (q or Q to quit):\"))\n",
    "        str(inp)\n",
    "        if inp == \"q\" or inp == \"Q\":                               #判斷是否退出\n",
    "            break;\n",
    "        else: \n",
    "            temp_inp = int(float(inp))                             #改為數字輸入\n",
    "            nums.append(temp_inp)\n",
    "    print(\"The original data:\",nums) \n",
    "    nums.sort();                                                   #排列\n",
    "    outliers = [];\n",
    "    i = 0;\n",
    "    size = len(nums)\n",
    "    #紀錄極端值\n",
    "    for i in range(0,num):\n",
    "        outliers.append(nums[i])\n",
    "    for i in range(0,num):\n",
    "        outliers.append(nums[size -i -1])\n",
    "    outliers.sort();\n",
    "    print(\"The data with the outliers removed:\",nums[num:size-num]) #輸出沒有極端值的data\n",
    "    print(\"The outliers::\",outliers)"
   ]
  },
  {
   "cell_type": "code",
   "execution_count": 2,
   "id": "b1a3750e",
   "metadata": {
    "scrolled": true
   },
   "outputs": [
    {
     "name": "stdout",
     "output_type": "stream",
     "text": [
      "Enter the number of smallest and largest values to remove:2\n",
      "Enter a value (q or Q to quit):-1001\n",
      "Enter a value (q or Q to quit):-20\n",
      "Enter a value (q or Q to quit):1001\n",
      "Enter a value (q or Q to quit):2001\n",
      "Enter a value (q or Q to quit):1\n",
      "Enter a value (q or Q to quit):2\n",
      "Enter a value (q or Q to quit):3\n",
      "Enter a value (q or Q to quit):4\n",
      "Enter a value (q or Q to quit):5\n",
      "Enter a value (q or Q to quit):6\n",
      "Enter a value (q or Q to quit):5\n",
      "Enter a value (q or Q to quit):4\n",
      "Enter a value (q or Q to quit):3\n",
      "Enter a value (q or Q to quit):2\n",
      "Enter a value (q or Q to quit):1\n",
      "Enter a value (q or Q to quit):q\n",
      "The original data: [-1001, -20, 1001, 2001, 1, 2, 3, 4, 5, 6, 5, 4, 3, 2, 1]\n",
      "The data with the outliers removed: [1, 1, 2, 2, 3, 3, 4, 4, 5, 5, 6]\n",
      "The outliers:: [-1001, -20, 1001, 2001]\n"
     ]
    }
   ],
   "source": [
    "remove_outliers()"
   ]
  }
 ],
 "metadata": {
  "kernelspec": {
   "display_name": "Python 3",
   "language": "python",
   "name": "python3"
  },
  "language_info": {
   "codemirror_mode": {
    "name": "ipython",
    "version": 3
   },
   "file_extension": ".py",
   "mimetype": "text/x-python",
   "name": "python",
   "nbconvert_exporter": "python",
   "pygments_lexer": "ipython3",
   "version": "3.7.10"
  }
 },
 "nbformat": 4,
 "nbformat_minor": 5
}
